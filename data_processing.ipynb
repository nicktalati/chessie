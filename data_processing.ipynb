{
 "cells": [
  {
   "cell_type": "code",
   "execution_count": 1,
   "metadata": {},
   "outputs": [],
   "source": [
    "import pandas as pd\n",
    "import re"
   ]
  },
  {
   "attachments": {},
   "cell_type": "markdown",
   "metadata": {},
   "source": [
    "### Formatting Data\n",
    "Pandas dataframe. Currently, data is stored as a list of strings.\n",
    "\n",
    "Things Saved:\n",
    "- Player names and elos\n",
    "- PGN\n",
    "- Opening"
   ]
  },
  {
   "cell_type": "code",
   "execution_count": 9,
   "metadata": {},
   "outputs": [],
   "source": [
    "games = pd.DataFrame(columns=[\"White Name\", \"Black Name\", \"Opening\", \"White Elo\", \"Black Elo\", \"PGN\"])\n",
    "\n",
    "with open(\"games_condensed.txt\", \"r\") as file:\n",
    "    for line in file:\n",
    "        line = line.split(\",\")\n",
    "\n",
    "        # Don't include wacky variants like Chess960\n",
    "        if \"Variant\" in line[3]:\n",
    "            continue\n",
    "        \n",
    "        # Remove unnecessary features\n",
    "        indices=[2, 3, 4, 6, 7, 8, 11, 12, 13, 14, 15, 16, 17, 19]  # Manually found\n",
    "        for i in sorted(indices, reverse=True):\n",
    "            del line[i]\n",
    "\n",
    "        # Parse strings to get valuable information\n",
    "        pattern = r'\\\\\"(.*?)\\\\\"'  # This string pattern encloses all important info\n",
    "        for i in range(0, 5):\n",
    "            match = re.search(pattern, line[i])\n",
    "            if match:\n",
    "                line[i] = match.group(1)\n",
    "        \n",
    "        games.loc[games.shape[0]] = line"
   ]
  },
  {
   "cell_type": "code",
   "execution_count": 10,
   "metadata": {},
   "outputs": [
    {
     "data": {
      "text/html": [
       "<div>\n",
       "<style scoped>\n",
       "    .dataframe tbody tr th:only-of-type {\n",
       "        vertical-align: middle;\n",
       "    }\n",
       "\n",
       "    .dataframe tbody tr th {\n",
       "        vertical-align: top;\n",
       "    }\n",
       "\n",
       "    .dataframe thead th {\n",
       "        text-align: right;\n",
       "    }\n",
       "</style>\n",
       "<table border=\"1\" class=\"dataframe\">\n",
       "  <thead>\n",
       "    <tr style=\"text-align: right;\">\n",
       "      <th></th>\n",
       "      <th>White Name</th>\n",
       "      <th>Black Name</th>\n",
       "      <th>Opening</th>\n",
       "      <th>White Elo</th>\n",
       "      <th>Black Elo</th>\n",
       "      <th>PGN</th>\n",
       "    </tr>\n",
       "  </thead>\n",
       "  <tbody>\n",
       "    <tr>\n",
       "      <th>0</th>\n",
       "      <td>colinsong1</td>\n",
       "      <td>TimeFish_576</td>\n",
       "      <td>B06</td>\n",
       "      <td>1604</td>\n",
       "      <td>1609</td>\n",
       "      <td>\"1. e4 {[%clk 0:03:00]} 1... g6 {[%clk 0:02:5...</td>\n",
       "    </tr>\n",
       "    <tr>\n",
       "      <th>1</th>\n",
       "      <td>colinsong1</td>\n",
       "      <td>Octopus6666</td>\n",
       "      <td>B22</td>\n",
       "      <td>1596</td>\n",
       "      <td>1600</td>\n",
       "      <td>\"1. e4 {[%clk 0:03:00]} 1... c5 {[%clk 0:03:0...</td>\n",
       "    </tr>\n",
       "    <tr>\n",
       "      <th>2</th>\n",
       "      <td>TimeFish_576</td>\n",
       "      <td>kimmmanhhh</td>\n",
       "      <td>A21</td>\n",
       "      <td>1564</td>\n",
       "      <td>1522</td>\n",
       "      <td>\"1. c4 {[%clk 0:03:00]} 1... e5 {[%clk 0:03:0...</td>\n",
       "    </tr>\n",
       "    <tr>\n",
       "      <th>3</th>\n",
       "      <td>TimeFish_576</td>\n",
       "      <td>Tavusheci</td>\n",
       "      <td>A15</td>\n",
       "      <td>1548</td>\n",
       "      <td>1563</td>\n",
       "      <td>\"1. c4 {[%clk 0:03:00]} 1... c5 {[%clk 0:02:5...</td>\n",
       "    </tr>\n",
       "    <tr>\n",
       "      <th>4</th>\n",
       "      <td>Octopus6666</td>\n",
       "      <td>S11chandru</td>\n",
       "      <td>D02</td>\n",
       "      <td>1625</td>\n",
       "      <td>1607</td>\n",
       "      <td>\"1. d4 {[%clk 0:03:00]} 1... d5 {[%clk 0:03:0...</td>\n",
       "    </tr>\n",
       "  </tbody>\n",
       "</table>\n",
       "</div>"
      ],
      "text/plain": [
       "     White Name    Black Name Opening White Elo Black Elo  \\\n",
       "0    colinsong1  TimeFish_576     B06      1604      1609   \n",
       "1    colinsong1   Octopus6666     B22      1596      1600   \n",
       "2  TimeFish_576    kimmmanhhh     A21      1564      1522   \n",
       "3  TimeFish_576     Tavusheci     A15      1548      1563   \n",
       "4   Octopus6666    S11chandru     D02      1625      1607   \n",
       "\n",
       "                                                 PGN  \n",
       "0   \"1. e4 {[%clk 0:03:00]} 1... g6 {[%clk 0:02:5...  \n",
       "1   \"1. e4 {[%clk 0:03:00]} 1... c5 {[%clk 0:03:0...  \n",
       "2   \"1. c4 {[%clk 0:03:00]} 1... e5 {[%clk 0:03:0...  \n",
       "3   \"1. c4 {[%clk 0:03:00]} 1... c5 {[%clk 0:02:5...  \n",
       "4   \"1. d4 {[%clk 0:03:00]} 1... d5 {[%clk 0:03:0...  "
      ]
     },
     "execution_count": 10,
     "metadata": {},
     "output_type": "execute_result"
    }
   ],
   "source": [
    "games.head()"
   ]
  }
 ],
 "metadata": {
  "kernelspec": {
   "display_name": "venv",
   "language": "python",
   "name": "python3"
  },
  "language_info": {
   "codemirror_mode": {
    "name": "ipython",
    "version": 3
   },
   "file_extension": ".py",
   "mimetype": "text/x-python",
   "name": "python",
   "nbconvert_exporter": "python",
   "pygments_lexer": "ipython3",
   "version": "3.9.13"
  },
  "orig_nbformat": 4
 },
 "nbformat": 4,
 "nbformat_minor": 2
}
