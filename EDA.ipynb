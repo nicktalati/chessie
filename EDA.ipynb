{
 "cells": [
  {
   "cell_type": "code",
   "execution_count": 5,
   "metadata": {},
   "outputs": [],
   "source": [
    "import pandas as pd\n",
    "import seaborn as sns"
   ]
  },
  {
   "cell_type": "code",
   "execution_count": 4,
   "metadata": {},
   "outputs": [
    {
     "data": {
      "text/html": [
       "<div>\n",
       "<style scoped>\n",
       "    .dataframe tbody tr th:only-of-type {\n",
       "        vertical-align: middle;\n",
       "    }\n",
       "\n",
       "    .dataframe tbody tr th {\n",
       "        vertical-align: top;\n",
       "    }\n",
       "\n",
       "    .dataframe thead th {\n",
       "        text-align: right;\n",
       "    }\n",
       "</style>\n",
       "<table border=\"1\" class=\"dataframe\">\n",
       "  <thead>\n",
       "    <tr style=\"text-align: right;\">\n",
       "      <th></th>\n",
       "      <th>White Name</th>\n",
       "      <th>Black Name</th>\n",
       "      <th>ECO Opening</th>\n",
       "      <th>White Elo</th>\n",
       "      <th>Black Elo</th>\n",
       "      <th>PGN</th>\n",
       "      <th>Game Length</th>\n",
       "      <th>FEN</th>\n",
       "      <th>Game</th>\n",
       "      <th>Move_Times</th>\n",
       "    </tr>\n",
       "  </thead>\n",
       "  <tbody>\n",
       "    <tr>\n",
       "      <th>0</th>\n",
       "      <td>colinsong1</td>\n",
       "      <td>TimeFish_576</td>\n",
       "      <td>B06</td>\n",
       "      <td>1604</td>\n",
       "      <td>1609</td>\n",
       "      <td>\"1. e4 {[%clk 0:03:00]} 1... g6 {[%clk 0:02:5...</td>\n",
       "      <td>12</td>\n",
       "      <td>rnbqkbnr/pppppppp/8/8/4P3/8/PPPP1PPP/RNBQKBNR ...</td>\n",
       "      <td>0</td>\n",
       "      <td>0</td>\n",
       "    </tr>\n",
       "    <tr>\n",
       "      <th>1</th>\n",
       "      <td>colinsong1</td>\n",
       "      <td>TimeFish_576</td>\n",
       "      <td>B06</td>\n",
       "      <td>1604</td>\n",
       "      <td>1609</td>\n",
       "      <td>\"1. e4 {[%clk 0:03:00]} 1... g6 {[%clk 0:02:5...</td>\n",
       "      <td>12</td>\n",
       "      <td>rnbqkbnr/pppppp1p/6p1/8/4P3/8/PPPP1PPP/RNBQKBN...</td>\n",
       "      <td>0</td>\n",
       "      <td>100</td>\n",
       "    </tr>\n",
       "    <tr>\n",
       "      <th>2</th>\n",
       "      <td>colinsong1</td>\n",
       "      <td>TimeFish_576</td>\n",
       "      <td>B06</td>\n",
       "      <td>1604</td>\n",
       "      <td>1609</td>\n",
       "      <td>\"1. e4 {[%clk 0:03:00]} 1... g6 {[%clk 0:02:5...</td>\n",
       "      <td>12</td>\n",
       "      <td>rnbqkbnr/pppppp1p/6p1/8/4P3/2N5/PPPP1PPP/R1BQK...</td>\n",
       "      <td>0</td>\n",
       "      <td>1000</td>\n",
       "    </tr>\n",
       "    <tr>\n",
       "      <th>3</th>\n",
       "      <td>colinsong1</td>\n",
       "      <td>TimeFish_576</td>\n",
       "      <td>B06</td>\n",
       "      <td>1604</td>\n",
       "      <td>1609</td>\n",
       "      <td>\"1. e4 {[%clk 0:03:00]} 1... g6 {[%clk 0:02:5...</td>\n",
       "      <td>12</td>\n",
       "      <td>rnbqk1nr/ppppppbp/6p1/8/4P3/2N5/PPPP1PPP/R1BQK...</td>\n",
       "      <td>0</td>\n",
       "      <td>300</td>\n",
       "    </tr>\n",
       "    <tr>\n",
       "      <th>4</th>\n",
       "      <td>colinsong1</td>\n",
       "      <td>TimeFish_576</td>\n",
       "      <td>B06</td>\n",
       "      <td>1604</td>\n",
       "      <td>1609</td>\n",
       "      <td>\"1. e4 {[%clk 0:03:00]} 1... g6 {[%clk 0:02:5...</td>\n",
       "      <td>12</td>\n",
       "      <td>rnbqk1nr/ppppppbp/6p1/8/2B1P3/2N5/PPPP1PPP/R1B...</td>\n",
       "      <td>0</td>\n",
       "      <td>700</td>\n",
       "    </tr>\n",
       "    <tr>\n",
       "      <th>...</th>\n",
       "      <td>...</td>\n",
       "      <td>...</td>\n",
       "      <td>...</td>\n",
       "      <td>...</td>\n",
       "      <td>...</td>\n",
       "      <td>...</td>\n",
       "      <td>...</td>\n",
       "      <td>...</td>\n",
       "      <td>...</td>\n",
       "      <td>...</td>\n",
       "    </tr>\n",
       "    <tr>\n",
       "      <th>279233</th>\n",
       "      <td>Blazeline21</td>\n",
       "      <td>Seriaruuu</td>\n",
       "      <td>C45</td>\n",
       "      <td>1430</td>\n",
       "      <td>1419</td>\n",
       "      <td>\"1. e4 {[%clk 0:03:00]} 1... e5 {[%clk 0:03:0...</td>\n",
       "      <td>60</td>\n",
       "      <td>8/P7/2p5/2Kb1pk1/2p5/5PBP/2P5/8 b - - 0 40</td>\n",
       "      <td>3917</td>\n",
       "      <td>9600</td>\n",
       "    </tr>\n",
       "    <tr>\n",
       "      <th>279234</th>\n",
       "      <td>Blazeline21</td>\n",
       "      <td>Seriaruuu</td>\n",
       "      <td>C45</td>\n",
       "      <td>1430</td>\n",
       "      <td>1419</td>\n",
       "      <td>\"1. e4 {[%clk 0:03:00]} 1... e5 {[%clk 0:03:0...</td>\n",
       "      <td>60</td>\n",
       "      <td>8/P7/2p5/2Kb2k1/2p2p2/5PBP/2P5/8 w - - 0 41</td>\n",
       "      <td>3917</td>\n",
       "      <td>11400</td>\n",
       "    </tr>\n",
       "    <tr>\n",
       "      <th>279235</th>\n",
       "      <td>Blazeline21</td>\n",
       "      <td>Seriaruuu</td>\n",
       "      <td>C45</td>\n",
       "      <td>1430</td>\n",
       "      <td>1419</td>\n",
       "      <td>\"1. e4 {[%clk 0:03:00]} 1... e5 {[%clk 0:03:0...</td>\n",
       "      <td>60</td>\n",
       "      <td>8/P7/2p5/2Kb2k1/2p2p2/5P1P/2P2B2/8 b - - 1 41</td>\n",
       "      <td>3917</td>\n",
       "      <td>3500</td>\n",
       "    </tr>\n",
       "    <tr>\n",
       "      <th>279236</th>\n",
       "      <td>Blazeline21</td>\n",
       "      <td>Seriaruuu</td>\n",
       "      <td>C45</td>\n",
       "      <td>1430</td>\n",
       "      <td>1419</td>\n",
       "      <td>\"1. e4 {[%clk 0:03:00]} 1... e5 {[%clk 0:03:0...</td>\n",
       "      <td>60</td>\n",
       "      <td>8/P7/2p1b3/2K3k1/2p2p2/5P1P/2P2B2/8 w - - 2 42</td>\n",
       "      <td>3917</td>\n",
       "      <td>7600</td>\n",
       "    </tr>\n",
       "    <tr>\n",
       "      <th>279237</th>\n",
       "      <td>Blazeline21</td>\n",
       "      <td>Seriaruuu</td>\n",
       "      <td>C45</td>\n",
       "      <td>1430</td>\n",
       "      <td>1419</td>\n",
       "      <td>\"1. e4 {[%clk 0:03:00]} 1... e5 {[%clk 0:03:0...</td>\n",
       "      <td>60</td>\n",
       "      <td>Q7/8/2p1b3/2K3k1/2p2p2/5P1P/2P2B2/8 b - - 0 42</td>\n",
       "      <td>3917</td>\n",
       "      <td>1200</td>\n",
       "    </tr>\n",
       "  </tbody>\n",
       "</table>\n",
       "<p>279238 rows × 10 columns</p>\n",
       "</div>"
      ],
      "text/plain": [
       "         White Name    Black Name ECO Opening  White Elo  Black Elo  \\\n",
       "0        colinsong1  TimeFish_576         B06       1604       1609   \n",
       "1        colinsong1  TimeFish_576         B06       1604       1609   \n",
       "2        colinsong1  TimeFish_576         B06       1604       1609   \n",
       "3        colinsong1  TimeFish_576         B06       1604       1609   \n",
       "4        colinsong1  TimeFish_576         B06       1604       1609   \n",
       "...             ...           ...         ...        ...        ...   \n",
       "279233  Blazeline21     Seriaruuu         C45       1430       1419   \n",
       "279234  Blazeline21     Seriaruuu         C45       1430       1419   \n",
       "279235  Blazeline21     Seriaruuu         C45       1430       1419   \n",
       "279236  Blazeline21     Seriaruuu         C45       1430       1419   \n",
       "279237  Blazeline21     Seriaruuu         C45       1430       1419   \n",
       "\n",
       "                                                      PGN  Game Length  \\\n",
       "0        \"1. e4 {[%clk 0:03:00]} 1... g6 {[%clk 0:02:5...           12   \n",
       "1        \"1. e4 {[%clk 0:03:00]} 1... g6 {[%clk 0:02:5...           12   \n",
       "2        \"1. e4 {[%clk 0:03:00]} 1... g6 {[%clk 0:02:5...           12   \n",
       "3        \"1. e4 {[%clk 0:03:00]} 1... g6 {[%clk 0:02:5...           12   \n",
       "4        \"1. e4 {[%clk 0:03:00]} 1... g6 {[%clk 0:02:5...           12   \n",
       "...                                                   ...          ...   \n",
       "279233   \"1. e4 {[%clk 0:03:00]} 1... e5 {[%clk 0:03:0...           60   \n",
       "279234   \"1. e4 {[%clk 0:03:00]} 1... e5 {[%clk 0:03:0...           60   \n",
       "279235   \"1. e4 {[%clk 0:03:00]} 1... e5 {[%clk 0:03:0...           60   \n",
       "279236   \"1. e4 {[%clk 0:03:00]} 1... e5 {[%clk 0:03:0...           60   \n",
       "279237   \"1. e4 {[%clk 0:03:00]} 1... e5 {[%clk 0:03:0...           60   \n",
       "\n",
       "                                                      FEN  Game  Move_Times  \n",
       "0       rnbqkbnr/pppppppp/8/8/4P3/8/PPPP1PPP/RNBQKBNR ...     0           0  \n",
       "1       rnbqkbnr/pppppp1p/6p1/8/4P3/8/PPPP1PPP/RNBQKBN...     0         100  \n",
       "2       rnbqkbnr/pppppp1p/6p1/8/4P3/2N5/PPPP1PPP/R1BQK...     0        1000  \n",
       "3       rnbqk1nr/ppppppbp/6p1/8/4P3/2N5/PPPP1PPP/R1BQK...     0         300  \n",
       "4       rnbqk1nr/ppppppbp/6p1/8/2B1P3/2N5/PPPP1PPP/R1B...     0         700  \n",
       "...                                                   ...   ...         ...  \n",
       "279233         8/P7/2p5/2Kb1pk1/2p5/5PBP/2P5/8 b - - 0 40  3917        9600  \n",
       "279234        8/P7/2p5/2Kb2k1/2p2p2/5PBP/2P5/8 w - - 0 41  3917       11400  \n",
       "279235      8/P7/2p5/2Kb2k1/2p2p2/5P1P/2P2B2/8 b - - 1 41  3917        3500  \n",
       "279236     8/P7/2p1b3/2K3k1/2p2p2/5P1P/2P2B2/8 w - - 2 42  3917        7600  \n",
       "279237     Q7/8/2p1b3/2K3k1/2p2p2/5P1P/2P2B2/8 b - - 0 42  3917        1200  \n",
       "\n",
       "[279238 rows x 10 columns]"
      ]
     },
     "execution_count": 4,
     "metadata": {},
     "output_type": "execute_result"
    }
   ],
   "source": [
    "df = pd.read_csv(\"new_games_cond.csv\")"
   ]
  },
  {
   "cell_type": "code",
   "execution_count": 6,
   "metadata": {},
   "outputs": [
    {
     "data": {
      "text/plain": [
       "<seaborn.axisgrid.FacetGrid at 0x1b926b53700>"
      ]
     },
     "execution_count": 6,
     "metadata": {},
     "output_type": "execute_result"
    },
    {
     "data": {
      "image/png": "[encoded data removed]",
      "text/plain": [
       "<Figure size 360x360 with 1 Axes>"
      ]
     },
     "metadata": {
      "needs_background": "light"
     },
     "output_type": "display_data"
    }
   ],
   "source": [
    "sns.displot(x = \"Move_Times\", data = df)"
   ]
  },
  {
   "cell_type": "code",
   "execution_count": 10,
   "metadata": {},
   "outputs": [
    {
     "data": {
      "text/plain": [
       "115200"
      ]
     },
     "execution_count": 10,
     "metadata": {},
     "output_type": "execute_result"
    },
    {
     "data": {
      "image/png": "[encoded data removed]",
      "text/plain": [
       "<Figure size 360x360 with 1 Axes>"
      ]
     },
     "metadata": {
      "needs_background": "light"
     },
     "output_type": "display_data"
    }
   ],
   "source": [
    "df2 = df[df[\"Move_Times\"] > 100] # exclude premoves\n",
    "sns.displot(x = \"Move_Times\", data = df2)\n",
    "df2[\"Move_Times\"].max()"
   ]
  },
  {
   "cell_type": "code",
   "execution_count": 12,
   "metadata": {},
   "outputs": [
    {
     "data": {
      "text/plain": [
       "1.9200000000000002"
      ]
     },
     "execution_count": 12,
     "metadata": {},
     "output_type": "execute_result"
    }
   ],
   "source": [
    "(115200/1000) / 60 # 1.92 s think"
   ]
  }
 ],
 "metadata": {
  "kernelspec": {
   "display_name": "Python 3",
   "language": "python",
   "name": "python3"
  },
  "language_info": {
   "codemirror_mode": {
    "name": "ipython",
    "version": 3
   },
   "file_extension": ".py",
   "mimetype": "text/x-python",
   "name": "python",
   "nbconvert_exporter": "python",
   "pygments_lexer": "ipython3",
   "version": "3.8.5"
  }
 },
 "nbformat": 4,
 "nbformat_minor": 4
}
