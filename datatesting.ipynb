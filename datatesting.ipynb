{
 "cells": [
  {
   "cell_type": "code",
   "execution_count": 3,
   "metadata": {},
   "outputs": [],
   "source": [
    "from chessdotcom import get_player_game_archives\n",
    "from queue import Queue\n",
    "import requests\n",
    "import json"
   ]
  },
  {
   "cell_type": "markdown",
   "metadata": {},
   "source": [
    "## Retrieve Games within a Certain ELO Range"
   ]
  },
  {
   "cell_type": "code",
   "execution_count": 62,
   "metadata": {},
   "outputs": [],
   "source": [
    "def reformat(game):\n",
    "    '''\n",
    "    Signifcantly condenses the game game\n",
    "    game: the dictionary of game\n",
    "    '''\n",
    "    components = game[\"pgn\"].split(\"\\n\")[4:]\n",
    "    #indices=[2,4,7,8,11,13,14,15,16,17,19]  # Manually found\n",
    " \n",
    "    #for i in sorted(indices, reverse=True):\n",
    "       # del components[i]\n",
    "    \n",
    "    return components\n",
    "\n",
    "\n",
    "def store_games(games, file_name):\n",
    "    '''\n",
    "    Stores game dictionaries in a text file, separated by new line characters.\n",
    "\n",
    "    games: a list of dictionaries of games to be stored.\n",
    "    file_name: the path to a valid .txt file to store.\n",
    "    '''\n",
    "    with open(file_name, 'w') as f:\n",
    "        for game in games:\n",
    "            # json.dumps converts games to a string for storage\n",
    "            f.write(json.dumps(game))\n",
    "            f.write(\"\\n\")\n",
    "\n",
    "\n",
    "def read_games(file_name):\n",
    "    '''\n",
    "    Retrieves games stored in a text file.\n",
    "\n",
    "    file_name: the path to a valid .txt file with stored games.\n",
    "    '''\n",
    "    games = []\n",
    "\n",
    "    with open(file_name, 'r') as f:\n",
    "        for line in f:\n",
    "            games.append(json.loads(line))\n",
    "\n",
    "    return games\n",
    "\n",
    "\n",
    "def get_data(player, elo_lb, elo_ub, num_players_cap, num_games_cap):\n",
    "    '''\n",
    "    performs a bfs to get game data from a list of users of a desired elo.\n",
    "    player: the player origin of the bfs.\n",
    "    elo_lb: lower bound.\n",
    "    elo_ub: upper bound.\n",
    "    num_players_cap: number of players we want to cap our requests to.\n",
    "    num_games_cap: number of games per player we want to cap our exploration at.\n",
    "    '''\n",
    "    num_games = 0\n",
    "    games_lst = [] # populate a list of games.\n",
    "\n",
    "\n",
    "    # Initialize a Queue\n",
    "    user_list = Queue()\n",
    "    user_list.put(player)\n",
    "\n",
    "    # Mark the start node as visited\n",
    "    visited = {player}\n",
    "\n",
    "    # Loop until the queue is empty\n",
    "    while len(visited) < num_players_cap: # stop when we have requested num_players_cap players.\n",
    "\n",
    "        # Dequeue a vertex from the queue\n",
    "        curr_user = user_list.get()\n",
    "\n",
    "        # Request player games from server.\n",
    "        requested_player = get_player_game_archives(curr_user)\n",
    "        \n",
    "        this_playergames = requests.get(url=requested_player.json[\"archives\"][-1]).json()[\"games\"]\n",
    "\n",
    "        # Keep track of how many games we've seen from this player\n",
    "        games_from_curr = 0\n",
    "        cap_exceeded = False\n",
    "\n",
    "        # Add all adjacent vertices to the queue\n",
    "        for game in this_playergames: # loop through the first num_games_cap games\n",
    "            \n",
    "            # Make sure it's a 5 min blitz\n",
    "            if game['time_control'] == '180':\n",
    "                # Detect what color and elo the opponent is\n",
    "                black_player = game['black']['username']\n",
    "                \n",
    "                if curr_user == black_player:\n",
    "                    opponent_elo = game['white']['rating']\n",
    "                    opponent_user = black_player\n",
    "                else:\n",
    "                    opponent_elo = game['black']['rating']\n",
    "                    opponent_user = game['black']['username']\n",
    "\n",
    "                if opponent_elo >= elo_lb and opponent_elo <= elo_ub and opponent_user not in visited and opponent_user != curr_user and \"pgn\" in game:\n",
    "                    \n",
    "                    if \"game abandoned\" not in game[\"pgn\"]:\n",
    "                                             \n",
    "                        condensed = reformat(game)\n",
    "                        games_lst.append(condensed)\n",
    "                        user_list.put(opponent_user)\n",
    "\n",
    "                        # Exit loop once we achieve the number of games cap\n",
    "                        games_from_curr += 1\n",
    "                        if games_from_curr >= num_games_cap:\n",
    "                            break\n",
    "        \n",
    "        # Add user to visited to prevent duplicates\n",
    "        visited.add(curr_user)\n",
    "    \n",
    "    return (games_lst, visited)"
   ]
  },
  {
   "cell_type": "code",
   "execution_count": 63,
   "metadata": {},
   "outputs": [
    {
     "name": "stdout",
     "output_type": "stream",
     "text": [
      "4628\n"
     ]
    }
   ],
   "source": [
    "data = get_data(player=\"colinsong1\", elo_lb=1390, elo_ub=1610, num_players_cap=2000, num_games_cap=2)\n",
    "print(len(data[0]))\n",
    "store_games(data[0], \"games_condensed.txt\")"
   ]
  },
  {
   "cell_type": "code",
   "execution_count": 22,
   "metadata": {},
   "outputs": [
    {
     "name": "stdout",
     "output_type": "stream",
     "text": [
      "1043\n",
      "1015\n"
     ]
    }
   ],
   "source": [
    "games = read_games(\"games_raw.txt\")\n",
    "\n",
    "print(len(games))\n",
    "for game in games:\n",
    "    if \"game abandoned\" in game[\"pgn\"]:\n",
    "        games.remove(game)\n",
    "print(len(games))\n",
    "\n",
    "for i in range(len(games)):\n",
    "    games[i] = reformat(games[i])\n",
    "\n",
    "store_games(games, \"games_condensed.txt\")"
   ]
  },
  {
   "cell_type": "code",
   "execution_count": 16,
   "metadata": {},
   "outputs": [
    {
     "name": "stdout",
     "output_type": "stream",
     "text": [
      "[Event \"Live Chess\"]\n",
      "[Site \"Chess.com\"]\n",
      "[Date \"2023.04.01\"]\n",
      "[Round \"-\"]\n",
      "[White \"ianfairplay\"]\n",
      "[Black \"Jokerchessss\"]\n",
      "[Result \"0-1\"]\n",
      "[CurrentPosition \"rnbqkbnr/pppppppp/8/8/8/8/PPPPPPPP/RNBQKBNR w KQkq -\"]\n",
      "[Timezone \"UTC\"]\n",
      "[UTCDate \"2023.04.01\"]\n",
      "[UTCTime \"07:07:32\"]\n",
      "[WhiteElo \"1548\"]\n",
      "[BlackElo \"1536\"]\n",
      "[TimeControl \"180\"]\n",
      "[Termination \"Jokerchessss won - game abandoned\"]\n",
      "[StartTime \"07:07:32\"]\n",
      "[EndDate \"2023.04.01\"]\n",
      "[EndTime \"07:07:32\"]\n",
      "[Link \"https://www.chess.com/game/live/74071864685\"]\n",
      "\n",
      "0-1\n",
      "\n"
     ]
    }
   ],
   "source": [
    "print(games[51][\"pgn\"])"
   ]
  },
  {
   "attachments": {},
   "cell_type": "markdown",
   "metadata": {},
   "source": [
    "Way to get games:\n",
    "1) Find any 1500ish player\n",
    "2) Get a random game\n",
    "3) Go into their opponents account and get a random game\n",
    "4) Repeat\n",
    "5) Compile all of these games to make a set\n",
    "\n",
    "Things to consider:\n",
    "- Ratings are wrong when accounts are new or have low game numbers\n",
    "- Pick games from unique players\n",
    "- Python chess has opening and endgame databases\n",
    "https://python-chess.readthedocs.io/en/latest/\n",
    "\n",
    "Action Items:\n",
    "- Parse PGN\n",
    "- Find an efficient way to gather data\n",
    "    - Make the dataset of PGNs\n",
    "- Compute time differences between moves\n",
    "- Make a \"stage of game\" variable to classify opening/mid/endgame\n",
    "- EDA of times. Summary statistics of time vs stage of game, etc\n",
    "\n",
    "Observations:\n",
    "- Shows opening URL. Could help in game stage classification\n",
    "- Current Board is a thing\n"
   ]
  }
 ],
 "metadata": {
  "kernelspec": {
   "display_name": "Python 3",
   "language": "python",
   "name": "python3"
  },
  "language_info": {
   "codemirror_mode": {
    "name": "ipython",
    "version": 3
   },
   "file_extension": ".py",
   "mimetype": "text/x-python",
   "name": "python",
   "nbconvert_exporter": "python",
   "pygments_lexer": "ipython3",
   "version": "3.10.2"
  }
 },
 "nbformat": 4,
 "nbformat_minor": 2
}
