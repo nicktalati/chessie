{
 "cells": [
  {
   "cell_type": "code",
   "execution_count": 25,
   "metadata": {},
   "outputs": [],
   "source": [
    "from chessdotcom import get_player_game_archives\n",
    "import chess\n",
    "import requests"
   ]
  },
  {
   "cell_type": "code",
   "execution_count": 23,
   "metadata": {},
   "outputs": [
    {
     "name": "stdout",
     "output_type": "stream",
     "text": [
      "https://api.chess.com/pub/player/fabianocaruana/games/2013/03\n"
     ]
    },
    {
     "data": {
      "text/plain": [
       "'[Event \"Live Chess\"]\\n[Site \"Chess.com\"]\\n[Date \"2013.03.17\"]\\n[Round \"-\"]\\n[White \"FabianoCaruana\"]\\n[Black \"hastily\"]\\n[Result \"1-0\"]\\n[CurrentPosition \"3r4/p6p/Q2b2p1/3Rk2N/P1p1P3/5P2/1P2K1PP/7R b - -\"]\\n[Timezone \"UTC\"]\\n[ECO \"D10\"]\\n[ECOUrl \"https://www.chess.com/openings/Slav-Defense-3.Nc3-dxc4\"]\\n[UTCDate \"2013.03.17\"]\\n[UTCTime \"15:16:14\"]\\n[WhiteElo \"1363\"]\\n[BlackElo \"1193\"]\\n[TimeControl \"180\"]\\n[Termination \"FabianoCaruana won by resignation\"]\\n[StartTime \"15:16:14\"]\\n[EndDate \"2013.03.17\"]\\n[EndTime \"15:19:21\"]\\n[Link \"https://www.chess.com/game/live/474897192\"]\\n\\n1. d4 {[%clk 0:03:00]} 1... d5 {[%clk 0:03:00]} 2. c4 {[%clk 0:02:57.8]} 2... dxc4 {[%clk 0:02:57.2]} 3. Nc3 {[%clk 0:02:56.9]} 3... c6 {[%clk 0:02:56.5]} 4. a4 {[%clk 0:02:54.8]} 4... Nf6 {[%clk 0:02:52.7]} 5. e4 {[%clk 0:02:53.5]} 5... c5 {[%clk 0:02:48.1]} 6. d5 {[%clk 0:02:51.5]} 6... Bg4 {[%clk 0:02:44]} 7. f3 {[%clk 0:02:49.7]} 7... Bh5 {[%clk 0:02:41.6]} 8. Bxc4 {[%clk 0:02:48.7]} 8... Qa5 {[%clk 0:02:37.1]} 9. Qb3 {[%clk 0:02:46.2]} 9... b6 {[%clk 0:02:32.9]} 10. Bd2 {[%clk 0:02:39.1]} 10... Qb4 {[%clk 0:02:23.9]} 11. Qa2 {[%clk 0:02:36.1]} 11... b5 {[%clk 0:01:43.6]} 12. Nxb5 {[%clk 0:02:34]} 12... Qxd2+ {[%clk 0:01:35.7]} 13. Kxd2 {[%clk 0:02:28.6]} 13... e6 {[%clk 0:01:35.2]} 14. Nc7+ {[%clk 0:02:26.8]} 14... Kd7 {[%clk 0:01:33]} 15. Nxa8 {[%clk 0:02:25.9]} 15... Bd6 {[%clk 0:01:27.5]} 16. dxe6+ {[%clk 0:02:24.4]} 16... fxe6 {[%clk 0:01:25.9]} 17. Bxe6+ {[%clk 0:02:23.4]} 17... Kc6 {[%clk 0:01:23.5]} 18. Ne2 {[%clk 0:02:19.6]} 18... Na6 {[%clk 0:01:21.8]} 19. Bd5+ {[%clk 0:02:16.9]} 19... Nxd5 {[%clk 0:01:18.8]} 20. Qxd5+ {[%clk 0:02:15.6]} 20... Kd7 {[%clk 0:01:17.2]} 21. Qb7+ {[%clk 0:02:14.4]} 21... Ke6 {[%clk 0:01:14.9]} 22. Qxa6 {[%clk 0:02:11.7]} 22... Rxa8 {[%clk 0:01:14.6]} 23. Nf4+ {[%clk 0:02:10.3]} 23... Ke5 {[%clk 0:01:11.1]} 24. Nxh5 {[%clk 0:02:09.3]} 24... Rd8 {[%clk 0:01:09.9]} 25. Ke2 {[%clk 0:02:07.4]} 25... c4 {[%clk 0:01:08.5]} 26. Rad1 {[%clk 0:02:06]} 26... g6 {[%clk 0:01:03.5]} 27. Rd5+ {[%clk 0:02:04.5]} 1-0\\n'"
      ]
     },
     "execution_count": 23,
     "metadata": {},
     "output_type": "execute_result"
    }
   ],
   "source": [
    "response = get_player_game_archives(\"fabianocaruana\")\n",
    "\n",
    "# response.json[\"archives\"] gets the urls of a particular players games by month\n",
    "games = requests.get(url=response.json[\"archives\"][0])\n",
    "\n",
    "games.json()[\"games\"][0][\"pgn\"]"
   ]
  },
  {
   "attachments": {},
   "cell_type": "markdown",
   "metadata": {},
   "source": [
    "Way to get games:\n",
    "1) Find any 1500ish player\n",
    "2) Get a random game\n",
    "3) Go into their opponents account and get a random game\n",
    "4) Repeat\n",
    "5) Compile all of these games to make a set\n",
    "\n",
    "Things to consider:\n",
    "- Ratings are wrong when accounts are new or have low game numbers\n",
    "- Pick games from unique players\n",
    "- Python chess has opening and endgame databases\n",
    "https://python-chess.readthedocs.io/en/latest/\n",
    "\n",
    "Action Items:\n",
    "- Parse PGN\n",
    "- Find an efficient way to gather data\n",
    "    - Make the dataset of PGNs\n",
    "- Compute time differences between moves\n",
    "- Make a \"stage of game\" variable to classify opening/mid/endgame\n",
    "- EDA of times. Summary statistics of time vs stage of game, etc\n"
   ]
  }
 ],
 "metadata": {
  "kernelspec": {
   "display_name": "venv",
   "language": "python",
   "name": "python3"
  },
  "language_info": {
   "codemirror_mode": {
    "name": "ipython",
    "version": 3
   },
   "file_extension": ".py",
   "mimetype": "text/x-python",
   "name": "python",
   "nbconvert_exporter": "python",
   "pygments_lexer": "ipython3",
   "version": "3.10.2"
  },
  "orig_nbformat": 4
 },
 "nbformat": 4,
 "nbformat_minor": 2
}
