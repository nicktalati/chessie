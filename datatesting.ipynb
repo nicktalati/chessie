{
 "cells": [
  {
   "cell_type": "code",
   "execution_count": 3,
   "metadata": {},
   "outputs": [],
   "source": [
    "from chessdotcom import get_player_game_archives, get_leaderboards\n",
    "from queue import Queue\n",
    "import requests\n",
    "import json"
   ]
  },
  {
   "cell_type": "markdown",
   "metadata": {},
   "source": [
    "## Retrieve Games within a Certain ELO Range"
   ]
  },
  {
   "cell_type": "code",
   "execution_count": 99,
   "metadata": {},
   "outputs": [],
   "source": [
    "def reformat(game):\n",
    "    '''\n",
    "    Signifcantly condenses the game game\n",
    "    game: the dictionary of game\n",
    "    '''\n",
    "    components = game[\"pgn\"].split(\"\\n\")[4:]\n",
    "    indices=[2,4,7,8,11,13,14,15,16,17,19]  # Manually found\n",
    " \n",
    "    for i in sorted(indices, reverse=True):\n",
    "        del components[i]\n",
    "    \n",
    "    return components\n",
    "\n",
    "def get_data(player, elo_lb, elo_ub, num_players_cap, num_games_cap):\n",
    "    '''\n",
    "    performs a bfs to get game data from a list of users of a desired elo.\n",
    "    player: the player origin of the bfs.\n",
    "    elo_lb: lower bound.\n",
    "    elo_ub: upper bound.\n",
    "    num_players_cap: number of players we want to cap our requests to.\n",
    "    num_games_cap: number of games per player we want to cap our exploration at.\n",
    "    '''\n",
    "    num_games = 0\n",
    "    games_lst = [] # populate a list of games.\n",
    "\n",
    "\n",
    "    # Initialize a Queue\n",
    "    user_list = Queue()\n",
    "    user_list.put(player)\n",
    "\n",
    "    # Mark the start node as visited\n",
    "    visited = {player}\n",
    "\n",
    "    # Loop until the queue is empty\n",
    "    while len(visited) < num_players_cap: # stop when we have requested num_players_cap players.\n",
    "\n",
    "        # Dequeue a vertex from the queue\n",
    "        curr_user = user_list.get()\n",
    "\n",
    "        # Request player games from server.\n",
    "        requested_player = get_player_game_archives(curr_user)\n",
    "        \n",
    "        this_playergames = requests.get(url=requested_player.json[\"archives\"][-1]).json()[\"games\"]\n",
    "\n",
    "        # Keep track of how many games we've seen from this player\n",
    "        games_from_curr = 0\n",
    "\n",
    "        # Add all adjacent vertices to the queue\n",
    "        for game in this_playergames: # loop through the first num_games_cap games\n",
    "            \n",
    "            # Make sure it's a 5 min blitz\n",
    "            if game['time_control'] == '180':\n",
    "                # Detect what color and elo the opponent is\n",
    "                black_player = game['black']['username']\n",
    "                \n",
    "                if curr_user == black_player:\n",
    "                    opponent_elo = game['white']['rating']\n",
    "                    opponent_user = black_player\n",
    "                else:\n",
    "                    opponent_elo = game['black']['rating']\n",
    "                    opponent_user = game['black']['username']\n",
    "\n",
    "                if opponent_elo >= elo_lb and opponent_elo <= elo_ub and opponent_user not in visited and opponent_user != curr_user:\n",
    "                    \n",
    "                    num_games += 1\n",
    "                    if num_games % 100 == 0:\n",
    "                        print(num_games)\n",
    "                    \n",
    "                    # print(\"Adding Game: \" + curr_user + \" vs. \" + opponent_user)\n",
    "                    #condensed = reformat(game)\n",
    "                    games_lst.append(game)\n",
    "                    user_list.put(opponent_user)\n",
    "\n",
    "                    # Exit loop once we achieve the number of games cap\n",
    "                    games_from_curr += 1\n",
    "                    if games_from_curr >= num_games_cap:\n",
    "                        break\n",
    "        \n",
    "        # Add user to visited to prevent duplicates\n",
    "        visited.add(curr_user)\n",
    "    \n",
    "    return (games_lst, visited)"
   ]
  },
  {
   "cell_type": "code",
   "execution_count": 105,
   "metadata": {},
   "outputs": [
    {
     "name": "stdout",
     "output_type": "stream",
     "text": [
      "100\n",
      "200\n",
      "300\n",
      "400\n",
      "500\n",
      "600\n",
      "700\n",
      "800\n",
      "900\n",
      "1000\n"
     ]
    }
   ],
   "source": [
    "sample_high_elo_players = get_data(player=\"colinsong1\", elo_lb=1390, elo_ub=1610, num_players_cap=500, num_games_cap=2)"
   ]
  },
  {
   "cell_type": "code",
   "execution_count": 83,
   "metadata": {},
   "outputs": [],
   "source": [
    "def store_games(games, file_name):\n",
    "    '''\n",
    "    Stores game dictionaries in a text file, separated by new line characters.\n",
    "\n",
    "    games: a list of dictionaries of games to be stored.\n",
    "    file_name: the path to a valid .txt file to store.\n",
    "    '''\n",
    "    with open(file_name, 'w') as f:\n",
    "        for game in games:\n",
    "            # json.dumps converts games to a string for storage\n",
    "            f.write(json.dumps(game))\n",
    "            f.write(\"\\n\")\n",
    "\n",
    "def read_games(file_name):\n",
    "    '''\n",
    "    Retrieves games stored in a text file.\n",
    "\n",
    "    file_name: the path to a valid .txt file with stored games.\n",
    "    '''\n",
    "    games = []\n",
    "\n",
    "    with open(file_name, 'r') as f:\n",
    "        for line in f:\n",
    "            games.append(json.loads(line))\n",
    "\n",
    "    return games"
   ]
  },
  {
   "cell_type": "code",
   "execution_count": 106,
   "metadata": {},
   "outputs": [
    {
     "name": "stdout",
     "output_type": "stream",
     "text": [
      "1043\n"
     ]
    }
   ],
   "source": [
    "print(len(sample_high_elo_players[0]))"
   ]
  },
  {
   "cell_type": "code",
   "execution_count": 107,
   "metadata": {},
   "outputs": [
    {
     "data": {
      "text/plain": [
       "{'url': 'https://www.chess.com/game/live/74199703367',\n",
       " 'pgn': '[Event \"Live Chess\"]\\n[Site \"Chess.com\"]\\n[Date \"2023.04.02\"]\\n[Round \"-\"]\\n[White \"colinsong1\"]\\n[Black \"TimeFish_576\"]\\n[Result \"0-1\"]\\n[CurrentPosition \"r1bq1rk1/ppp2pbp/2n3pB/8/8/1P1P4/P1Pp1PPP/2KR2NR w - -\"]\\n[Timezone \"UTC\"]\\n[ECO \"B06\"]\\n[ECOUrl \"https://www.chess.com/openings/Modern-Defense-with-1-e4-2.Nc3-Bg7\"]\\n[UTCDate \"2023.04.02\"]\\n[UTCTime \"18:36:37\"]\\n[WhiteElo \"1604\"]\\n[BlackElo \"1609\"]\\n[TimeControl \"180\"]\\n[Termination \"TimeFish_576 won by resignation\"]\\n[StartTime \"18:36:37\"]\\n[EndDate \"2023.04.02\"]\\n[EndTime \"18:37:04\"]\\n[Link \"https://www.chess.com/game/live/74199703367\"]\\n\\n1. e4 {[%clk 0:03:00]} 1... g6 {[%clk 0:02:59.9]} 2. Nc3 {[%clk 0:02:59]} 2... Bg7 {[%clk 0:02:59.6]} 3. Bc4 {[%clk 0:02:58.3]} 3... e6 {[%clk 0:02:59.3]} 4. d3 {[%clk 0:02:57.8]} 4... Ne7 {[%clk 0:02:59.1]} 5. Be3 {[%clk 0:02:57.2]} 5... O-O {[%clk 0:02:58.8]} 6. Qd2 {[%clk 0:02:56.7]} 6... Nbc6 {[%clk 0:02:58.5]} 7. O-O-O {[%clk 0:02:56.3]} 7... d5 {[%clk 0:02:58.2]} 8. exd5 {[%clk 0:02:55]} 8... exd5 {[%clk 0:02:57.5]} 9. Bb5 {[%clk 0:02:51.1]} 9... d4 {[%clk 0:02:56.9]} 10. Bxc6 {[%clk 0:02:50.5]} 10... Nxc6 {[%clk 0:02:55.8]} 11. Bh6 {[%clk 0:02:47.6]} 11... dxc3 {[%clk 0:02:54.5]} 12. b3 {[%clk 0:02:46.6]} 12... cxd2+ {[%clk 0:02:53.7]} 0-1\\n',\n",
       " 'time_control': '180',\n",
       " 'end_time': 1680460624,\n",
       " 'rated': True,\n",
       " 'tcn': 'mC2Ubs92fA0Slt!0cu8!dl5QecZJCJSJAHJBHQ0QuVBsjrsl',\n",
       " 'uuid': '4ce4774e-d185-11ed-97b1-6cfe544c0428',\n",
       " 'initial_setup': 'rnbqkbnr/pppppppp/8/8/8/8/PPPPPPPP/RNBQKBNR w KQkq - 0 1',\n",
       " 'fen': 'r1bq1rk1/ppp2pbp/2n3pB/8/8/1P1P4/P1Pp1PPP/2KR2NR w - -',\n",
       " 'time_class': 'blitz',\n",
       " 'rules': 'chess',\n",
       " 'white': {'rating': 1604,\n",
       "  'result': 'resigned',\n",
       "  '@id': 'https://api.chess.com/pub/player/colinsong1',\n",
       "  'username': 'colinsong1',\n",
       "  'uuid': 'fbe3bc08-27ce-11eb-ad15-9b7fb55287f9'},\n",
       " 'black': {'rating': 1609,\n",
       "  'result': 'win',\n",
       "  '@id': 'https://api.chess.com/pub/player/timefish_576',\n",
       "  'username': 'TimeFish_576',\n",
       "  'uuid': '464ee806-c71d-11eb-9a5b-95debc6752a5'}}"
      ]
     },
     "execution_count": 107,
     "metadata": {},
     "output_type": "execute_result"
    }
   ],
   "source": [
    "store_games(sample_high_elo_players[0], \"games.txt\")\n",
    "\n",
    "games = read_games(\"games.txt\")\n",
    "games[0]"
   ]
  },
  {
   "cell_type": "markdown",
   "metadata": {},
   "source": [
    "Way to get games:\n",
    "1) Find any 1500ish player\n",
    "2) Get a random game\n",
    "3) Go into their opponents account and get a random game\n",
    "4) Repeat\n",
    "5) Compile all of these games to make a set\n",
    "\n",
    "Things to consider:\n",
    "- Ratings are wrong when accounts are new or have low game numbers\n",
    "- Pick games from unique players\n",
    "- Python chess has opening and endgame databases\n",
    "https://python-chess.readthedocs.io/en/latest/\n",
    "\n",
    "Action Items:\n",
    "- Parse PGN\n",
    "- Find an efficient way to gather data\n",
    "    - Make the dataset of PGNs\n",
    "- Compute time differences between moves\n",
    "- Make a \"stage of game\" variable to classify opening/mid/endgame\n",
    "- EDA of times. Summary statistics of time vs stage of game, etc\n",
    "\n",
    "Observations:\n",
    "- Shows opening URL. Could help in game stage classification\n",
    "- Current Board is a thing\n"
   ]
  }
 ],
 "metadata": {
  "kernelspec": {
   "display_name": "Python 3",
   "language": "python",
   "name": "python3"
  },
  "language_info": {
   "codemirror_mode": {
    "name": "ipython",
    "version": 3
   },
   "file_extension": ".py",
   "mimetype": "text/x-python",
   "name": "python",
   "nbconvert_exporter": "python",
   "pygments_lexer": "ipython3",
   "version": "3.10.2"
  }
 },
 "nbformat": 4,
 "nbformat_minor": 2
}
