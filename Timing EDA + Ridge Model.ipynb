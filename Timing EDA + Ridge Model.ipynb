{
 "cells": [
  {
   "cell_type": "code",
   "execution_count": 1,
   "metadata": {},
   "outputs": [],
   "source": [
    "# Import Libraries\n",
    "import numpy as np\n",
    "import re\n",
    "import pandas as pd\n",
    "import chess.pgn\n",
    "import io"
   ]
  },
  {
   "cell_type": "code",
   "execution_count": 2,
   "metadata": {},
   "outputs": [],
   "source": [
    "games = pd.DataFrame(columns=[\"White Name\", \"Black Name\", \"Opening\", \"White Elo\", \"Black Elo\", \"PGN\"])\n",
    "\n",
    "with open(\"games_condensed.txt\", \"r\") as file:\n",
    "    for line in file:\n",
    "        line = line.split(\",\")\n",
    "\n",
    "        # Don't include wacky variants like Chess960\n",
    "        if \"Variant\" in line[3]:\n",
    "            continue\n",
    "        \n",
    "        # Remove unnecessary features\n",
    "        indices=[2, 3, 4, 6, 7, 8, 11, 12, 13, 14, 15, 16, 17, 19]  # Manually found\n",
    "        for i in sorted(indices, reverse=True):\n",
    "            del line[i]\n",
    "\n",
    "        # Parse strings to get valuable information\n",
    "        pattern = r'\\\\\"(.*?)\\\\\"'  # This string pattern encloses all important info\n",
    "        for i in range(0, 5):\n",
    "            match = re.search(pattern, line[i])\n",
    "            if match:\n",
    "                line[i] = match.group(1)\n",
    "        \n",
    "        games.loc[games.shape[0]] = line"
   ]
  },
  {
   "cell_type": "code",
   "execution_count": 3,
   "metadata": {},
   "outputs": [],
   "source": [
    "test_game = games[\"PGN\"][0]\n",
    "# each game is currently a row. we need some way to split each game into FEN files."
   ]
  },
  {
   "cell_type": "code",
   "execution_count": 4,
   "metadata": {},
   "outputs": [],
   "source": [
    "io.StringIO(test_game)\n",
    "test_game = chess.pgn.read_game(io.StringIO(test_game))"
   ]
  },
  {
   "cell_type": "code",
   "execution_count": 5,
   "metadata": {},
   "outputs": [],
   "source": [
    "# Iterate through all moves and play them on a board.\n",
    "fen_lst = []\n",
    "board = test_game.board()\n",
    "for move in test_game.mainline_moves():\n",
    "    board.push(move)\n",
    "    # print(\"new move: \\n\", board)\n",
    "    fen_lst.append(board.fen())"
   ]
  },
  {
   "cell_type": "code",
   "execution_count": 9,
   "metadata": {},
   "outputs": [],
   "source": [
    "import asyncio\n",
    "import chess.engine\n",
    "\n",
    "async def main() -> None:\n",
    "    transport, engine = await chess.engine.popen_uci(r\"C:\\Users\\naga2\\Downloads\\stockfish_15.1_win_x64_avx2\\stockfish_15.1_win_x64_avx2\\stockfish-windows-2022-x86-64-avx2.exe\")\n",
    "    board = chess.Board(fen_lst[12])\n",
    "    info = await engine.analyse(board, chess.engine.Limit(depth=20))\n",
    "    print(info[\"score\"])\n",
    "    await engine.quit() \n",
    "    \n",
    "asyncio.set_event_loop_policy(chess.engine.EventLoopPolicy())\n",
    "asyncio.run(main())   "
   ]
  },
  {
   "cell_type": "code",
   "execution_count": null,
   "metadata": {},
   "outputs": [],
   "source": [
    "chess.Board(fen_lst[-1])"
   ]
  }
 ],
 "metadata": {
  "kernelspec": {
   "display_name": "Python 3",
   "language": "python",
   "name": "python3"
  },
  "language_info": {
   "codemirror_mode": {
    "name": "ipython",
    "version": 3
   },
   "file_extension": ".py",
   "mimetype": "text/x-python",
   "name": "python",
   "nbconvert_exporter": "python",
   "pygments_lexer": "ipython3",
   "version": "3.8.5"
  }
 },
 "nbformat": 4,
 "nbformat_minor": 4
}
