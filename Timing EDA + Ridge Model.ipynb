{
 "cells": [
  {
   "cell_type": "code",
   "execution_count": 3,
   "metadata": {},
   "outputs": [],
   "source": [
    "# Import Libraries\n",
    "import numpy as np\n",
    "import pandas as pd\n",
    "import chess.pgn"
   ]
  },
  {
   "cell_type": "code",
   "execution_count": 6,
   "metadata": {},
   "outputs": [
    {
     "data": {
      "text/html": [
       "<div>\n",
       "<style scoped>\n",
       "    .dataframe tbody tr th:only-of-type {\n",
       "        vertical-align: middle;\n",
       "    }\n",
       "\n",
       "    .dataframe tbody tr th {\n",
       "        vertical-align: top;\n",
       "    }\n",
       "\n",
       "    .dataframe thead th {\n",
       "        text-align: right;\n",
       "    }\n",
       "</style>\n",
       "<table border=\"1\" class=\"dataframe\">\n",
       "  <thead>\n",
       "    <tr style=\"text-align: right;\">\n",
       "      <th></th>\n",
       "      <th>0</th>\n",
       "      <th>1</th>\n",
       "      <th>2</th>\n",
       "      <th>3</th>\n",
       "      <th>4</th>\n",
       "      <th>5</th>\n",
       "      <th>6</th>\n",
       "      <th>7</th>\n",
       "      <th>8</th>\n",
       "      <th>9</th>\n",
       "      <th>...</th>\n",
       "      <th>14</th>\n",
       "      <th>15</th>\n",
       "      <th>16</th>\n",
       "      <th>17</th>\n",
       "      <th>18</th>\n",
       "      <th>19</th>\n",
       "      <th>20</th>\n",
       "      <th>21</th>\n",
       "      <th>22</th>\n",
       "      <th>23</th>\n",
       "    </tr>\n",
       "  </thead>\n",
       "  <tbody>\n",
       "    <tr>\n",
       "      <th>0</th>\n",
       "      <td>[\"[White \\\"colinsong1\\\"]\"</td>\n",
       "      <td>\"[Black \\\"TimeFish_576\\\"]\"</td>\n",
       "      <td>\"[Result \\\"0-1\\\"]\"</td>\n",
       "      <td>\"[CurrentPosition \\\"r1bq1rk1/ppp2pbp/2n3pB/8/...</td>\n",
       "      <td>\"[Timezone \\\"UTC\\\"]\"</td>\n",
       "      <td>\"[ECO \\\"B06\\\"]\"</td>\n",
       "      <td>\"[ECOUrl \\\"https://www.chess.com/openings/Mod...</td>\n",
       "      <td>\"[UTCDate \\\"2023.04.02\\\"]\"</td>\n",
       "      <td>\"[UTCTime \\\"18:36:37\\\"]\"</td>\n",
       "      <td>\"[WhiteElo \\\"1604\\\"]\"</td>\n",
       "      <td>...</td>\n",
       "      <td>\"[EndDate \\\"2023.04.02\\\"]\"</td>\n",
       "      <td>\"[EndTime \\\"18:37:04\\\"]\"</td>\n",
       "      <td>\"[Link \\\"https://www.chess.com/game/live/7419...</td>\n",
       "      <td>\"\"</td>\n",
       "      <td>\"1. e4 {[%clk 0:03:00]} 1... g6 {[%clk 0:02:5...</td>\n",
       "      <td>\"\"]</td>\n",
       "      <td>NaN</td>\n",
       "      <td>NaN</td>\n",
       "      <td>NaN</td>\n",
       "      <td>NaN</td>\n",
       "    </tr>\n",
       "    <tr>\n",
       "      <th>1</th>\n",
       "      <td>[\"[White \\\"colinsong1\\\"]\"</td>\n",
       "      <td>\"[Black \\\"Octopus6666\\\"]\"</td>\n",
       "      <td>\"[Result \\\"0-1\\\"]\"</td>\n",
       "      <td>\"[CurrentPosition \\\"2r3k1/5pq1/8/8/1P3QPp/7P/...</td>\n",
       "      <td>\"[Timezone \\\"UTC\\\"]\"</td>\n",
       "      <td>\"[ECO \\\"B22\\\"]\"</td>\n",
       "      <td>\"[ECOUrl \\\"https://www.chess.com/openings/Ala...</td>\n",
       "      <td>\"[UTCDate \\\"2023.04.02\\\"]\"</td>\n",
       "      <td>\"[UTCTime \\\"18:36:56\\\"]\"</td>\n",
       "      <td>\"[WhiteElo \\\"1596\\\"]\"</td>\n",
       "      <td>...</td>\n",
       "      <td>\"[EndDate \\\"2023.04.02\\\"]\"</td>\n",
       "      <td>\"[EndTime \\\"18:41:57\\\"]\"</td>\n",
       "      <td>\"[Link \\\"https://www.chess.com/game/live/7419...</td>\n",
       "      <td>\"\"</td>\n",
       "      <td>\"1. e4 {[%clk 0:03:00]} 1... c5 {[%clk 0:03:0...</td>\n",
       "      <td>\"\"]</td>\n",
       "      <td>NaN</td>\n",
       "      <td>NaN</td>\n",
       "      <td>NaN</td>\n",
       "      <td>NaN</td>\n",
       "    </tr>\n",
       "    <tr>\n",
       "      <th>2</th>\n",
       "      <td>[\"[White \\\"TimeFish_576\\\"]\"</td>\n",
       "      <td>\"[Black \\\"kimmmanhhh\\\"]\"</td>\n",
       "      <td>\"[Result \\\"1/2-1/2\\\"]\"</td>\n",
       "      <td>\"[CurrentPosition \\\"8/8/8/2q5/K7/1p6/1k6/8 w ...</td>\n",
       "      <td>\"[Timezone \\\"UTC\\\"]\"</td>\n",
       "      <td>\"[ECO \\\"A21\\\"]\"</td>\n",
       "      <td>\"[ECOUrl \\\"https://www.chess.com/openings/Eng...</td>\n",
       "      <td>\"[UTCDate \\\"2023.04.01\\\"]\"</td>\n",
       "      <td>\"[UTCTime \\\"12:33:32\\\"]\"</td>\n",
       "      <td>\"[WhiteElo \\\"1564\\\"]\"</td>\n",
       "      <td>...</td>\n",
       "      <td>\"[EndDate \\\"2023.04.01\\\"]\"</td>\n",
       "      <td>\"[EndTime \\\"12:38:48\\\"]\"</td>\n",
       "      <td>\"[Link \\\"https://www.chess.com/game/live/7409...</td>\n",
       "      <td>\"\"</td>\n",
       "      <td>\"1. c4 {[%clk 0:03:00]} 1... e5 {[%clk 0:03:0...</td>\n",
       "      <td>\"\"]</td>\n",
       "      <td>NaN</td>\n",
       "      <td>NaN</td>\n",
       "      <td>NaN</td>\n",
       "      <td>NaN</td>\n",
       "    </tr>\n",
       "    <tr>\n",
       "      <th>3</th>\n",
       "      <td>[\"[White \\\"TimeFish_576\\\"]\"</td>\n",
       "      <td>\"[Black \\\"Tavusheci\\\"]\"</td>\n",
       "      <td>\"[Result \\\"0-1\\\"]\"</td>\n",
       "      <td>\"[CurrentPosition \\\"5rk1/4Bp1p/3p2p1/Q1p1b3/P...</td>\n",
       "      <td>\"[Timezone \\\"UTC\\\"]\"</td>\n",
       "      <td>\"[ECO \\\"A15\\\"]\"</td>\n",
       "      <td>\"[ECOUrl \\\"https://www.chess.com/openings/Eng...</td>\n",
       "      <td>\"[UTCDate \\\"2023.04.01\\\"]\"</td>\n",
       "      <td>\"[UTCTime \\\"12:43:09\\\"]\"</td>\n",
       "      <td>\"[WhiteElo \\\"1548\\\"]\"</td>\n",
       "      <td>...</td>\n",
       "      <td>\"[EndDate \\\"2023.04.01\\\"]\"</td>\n",
       "      <td>\"[EndTime \\\"12:46:42\\\"]\"</td>\n",
       "      <td>\"[Link \\\"https://www.chess.com/game/live/7409...</td>\n",
       "      <td>\"\"</td>\n",
       "      <td>\"1. c4 {[%clk 0:03:00]} 1... c5 {[%clk 0:02:5...</td>\n",
       "      <td>\"\"]</td>\n",
       "      <td>NaN</td>\n",
       "      <td>NaN</td>\n",
       "      <td>NaN</td>\n",
       "      <td>NaN</td>\n",
       "    </tr>\n",
       "    <tr>\n",
       "      <th>4</th>\n",
       "      <td>[\"[White \\\"Octopus6666\\\"]\"</td>\n",
       "      <td>\"[Black \\\"S11chandru\\\"]\"</td>\n",
       "      <td>\"[Result \\\"0-1\\\"]\"</td>\n",
       "      <td>\"[CurrentPosition \\\"1k2r3/1pq5/2p1p3/3r1p2/1Q...</td>\n",
       "      <td>\"[Timezone \\\"UTC\\\"]\"</td>\n",
       "      <td>\"[ECO \\\"D02\\\"]\"</td>\n",
       "      <td>\"[ECOUrl \\\"https://www.chess.com/openings/Que...</td>\n",
       "      <td>\"[UTCDate \\\"2023.04.01\\\"]\"</td>\n",
       "      <td>\"[UTCTime \\\"20:28:38\\\"]\"</td>\n",
       "      <td>\"[WhiteElo \\\"1625\\\"]\"</td>\n",
       "      <td>...</td>\n",
       "      <td>\"[EndDate \\\"2023.04.01\\\"]\"</td>\n",
       "      <td>\"[EndTime \\\"20:33:57\\\"]\"</td>\n",
       "      <td>\"[Link \\\"https://www.chess.com/game/live/7411...</td>\n",
       "      <td>\"\"</td>\n",
       "      <td>\"1. d4 {[%clk 0:03:00]} 1... d5 {[%clk 0:03:0...</td>\n",
       "      <td>\"\"]</td>\n",
       "      <td>NaN</td>\n",
       "      <td>NaN</td>\n",
       "      <td>NaN</td>\n",
       "      <td>NaN</td>\n",
       "    </tr>\n",
       "  </tbody>\n",
       "</table>\n",
       "<p>5 rows × 24 columns</p>\n",
       "</div>"
      ],
      "text/plain": [
       "                            0                            1   \\\n",
       "0    [\"[White \\\"colinsong1\\\"]\"   \"[Black \\\"TimeFish_576\\\"]\"   \n",
       "1    [\"[White \\\"colinsong1\\\"]\"    \"[Black \\\"Octopus6666\\\"]\"   \n",
       "2  [\"[White \\\"TimeFish_576\\\"]\"     \"[Black \\\"kimmmanhhh\\\"]\"   \n",
       "3  [\"[White \\\"TimeFish_576\\\"]\"      \"[Black \\\"Tavusheci\\\"]\"   \n",
       "4   [\"[White \\\"Octopus6666\\\"]\"     \"[Black \\\"S11chandru\\\"]\"   \n",
       "\n",
       "                        2                                                  3   \\\n",
       "0       \"[Result \\\"0-1\\\"]\"   \"[CurrentPosition \\\"r1bq1rk1/ppp2pbp/2n3pB/8/...   \n",
       "1       \"[Result \\\"0-1\\\"]\"   \"[CurrentPosition \\\"2r3k1/5pq1/8/8/1P3QPp/7P/...   \n",
       "2   \"[Result \\\"1/2-1/2\\\"]\"   \"[CurrentPosition \\\"8/8/8/2q5/K7/1p6/1k6/8 w ...   \n",
       "3       \"[Result \\\"0-1\\\"]\"   \"[CurrentPosition \\\"5rk1/4Bp1p/3p2p1/Q1p1b3/P...   \n",
       "4       \"[Result \\\"0-1\\\"]\"   \"[CurrentPosition \\\"1k2r3/1pq5/2p1p3/3r1p2/1Q...   \n",
       "\n",
       "                      4                 5   \\\n",
       "0   \"[Timezone \\\"UTC\\\"]\"   \"[ECO \\\"B06\\\"]\"   \n",
       "1   \"[Timezone \\\"UTC\\\"]\"   \"[ECO \\\"B22\\\"]\"   \n",
       "2   \"[Timezone \\\"UTC\\\"]\"   \"[ECO \\\"A21\\\"]\"   \n",
       "3   \"[Timezone \\\"UTC\\\"]\"   \"[ECO \\\"A15\\\"]\"   \n",
       "4   \"[Timezone \\\"UTC\\\"]\"   \"[ECO \\\"D02\\\"]\"   \n",
       "\n",
       "                                                  6   \\\n",
       "0   \"[ECOUrl \\\"https://www.chess.com/openings/Mod...   \n",
       "1   \"[ECOUrl \\\"https://www.chess.com/openings/Ala...   \n",
       "2   \"[ECOUrl \\\"https://www.chess.com/openings/Eng...   \n",
       "3   \"[ECOUrl \\\"https://www.chess.com/openings/Eng...   \n",
       "4   \"[ECOUrl \\\"https://www.chess.com/openings/Que...   \n",
       "\n",
       "                            7                          8   \\\n",
       "0   \"[UTCDate \\\"2023.04.02\\\"]\"   \"[UTCTime \\\"18:36:37\\\"]\"   \n",
       "1   \"[UTCDate \\\"2023.04.02\\\"]\"   \"[UTCTime \\\"18:36:56\\\"]\"   \n",
       "2   \"[UTCDate \\\"2023.04.01\\\"]\"   \"[UTCTime \\\"12:33:32\\\"]\"   \n",
       "3   \"[UTCDate \\\"2023.04.01\\\"]\"   \"[UTCTime \\\"12:43:09\\\"]\"   \n",
       "4   \"[UTCDate \\\"2023.04.01\\\"]\"   \"[UTCTime \\\"20:28:38\\\"]\"   \n",
       "\n",
       "                       9   ...                           14  \\\n",
       "0   \"[WhiteElo \\\"1604\\\"]\"  ...   \"[EndDate \\\"2023.04.02\\\"]\"   \n",
       "1   \"[WhiteElo \\\"1596\\\"]\"  ...   \"[EndDate \\\"2023.04.02\\\"]\"   \n",
       "2   \"[WhiteElo \\\"1564\\\"]\"  ...   \"[EndDate \\\"2023.04.01\\\"]\"   \n",
       "3   \"[WhiteElo \\\"1548\\\"]\"  ...   \"[EndDate \\\"2023.04.01\\\"]\"   \n",
       "4   \"[WhiteElo \\\"1625\\\"]\"  ...   \"[EndDate \\\"2023.04.01\\\"]\"   \n",
       "\n",
       "                          15  \\\n",
       "0   \"[EndTime \\\"18:37:04\\\"]\"   \n",
       "1   \"[EndTime \\\"18:41:57\\\"]\"   \n",
       "2   \"[EndTime \\\"12:38:48\\\"]\"   \n",
       "3   \"[EndTime \\\"12:46:42\\\"]\"   \n",
       "4   \"[EndTime \\\"20:33:57\\\"]\"   \n",
       "\n",
       "                                                  16   17  \\\n",
       "0   \"[Link \\\"https://www.chess.com/game/live/7419...   \"\"   \n",
       "1   \"[Link \\\"https://www.chess.com/game/live/7419...   \"\"   \n",
       "2   \"[Link \\\"https://www.chess.com/game/live/7409...   \"\"   \n",
       "3   \"[Link \\\"https://www.chess.com/game/live/7409...   \"\"   \n",
       "4   \"[Link \\\"https://www.chess.com/game/live/7411...   \"\"   \n",
       "\n",
       "                                                  18    19   20   21   22   23  \n",
       "0   \"1. e4 {[%clk 0:03:00]} 1... g6 {[%clk 0:02:5...   \"\"]  NaN  NaN  NaN  NaN  \n",
       "1   \"1. e4 {[%clk 0:03:00]} 1... c5 {[%clk 0:03:0...   \"\"]  NaN  NaN  NaN  NaN  \n",
       "2   \"1. c4 {[%clk 0:03:00]} 1... e5 {[%clk 0:03:0...   \"\"]  NaN  NaN  NaN  NaN  \n",
       "3   \"1. c4 {[%clk 0:03:00]} 1... c5 {[%clk 0:02:5...   \"\"]  NaN  NaN  NaN  NaN  \n",
       "4   \"1. d4 {[%clk 0:03:00]} 1... d5 {[%clk 0:03:0...   \"\"]  NaN  NaN  NaN  NaN  \n",
       "\n",
       "[5 rows x 24 columns]"
      ]
     },
     "execution_count": 6,
     "metadata": {},
     "output_type": "execute_result"
    }
   ],
   "source": [
    "games_condensed = pd.read_csv('games_condensed.csv', header=None)\n",
    "games_condensed.head()"
   ]
  },
  {
   "cell_type": "code",
   "execution_count": 18,
   "metadata": {},
   "outputs": [
    {
     "data": {
      "text/plain": [
       "' \"1. e4 {[%clk 0:03:00]} 1... g6 {[%clk 0:02:59.9]} 2. Nc3 {[%clk 0:02:59]} 2... Bg7 {[%clk 0:02:59.6]} 3. Bc4 {[%clk 0:02:58.3]} 3... e6 {[%clk 0:02:59.3]} 4. d3 {[%clk 0:02:57.8]} 4... Ne7 {[%clk 0:02:59.1]} 5. Be3 {[%clk 0:02:57.2]} 5... O-O {[%clk 0:02:58.8]} 6. Qd2 {[%clk 0:02:56.7]} 6... Nbc6 {[%clk 0:02:58.5]} 7. O-O-O {[%clk 0:02:56.3]} 7... d5 {[%clk 0:02:58.2]} 8. exd5 {[%clk 0:02:55]} 8... exd5 {[%clk 0:02:57.5]} 9. Bb5 {[%clk 0:02:51.1]} 9... d4 {[%clk 0:02:56.9]} 10. Bxc6 {[%clk 0:02:50.5]} 10... Nxc6 {[%clk 0:02:55.8]} 11. Bh6 {[%clk 0:02:47.6]} 11... dxc3 {[%clk 0:02:54.5]} 12. b3 {[%clk 0:02:46.6]} 12... cxd2+ {[%clk 0:02:53.7]} 0-1\"'"
      ]
     },
     "execution_count": 18,
     "metadata": {},
     "output_type": "execute_result"
    }
   ],
   "source": [
    "pgn_files = games_condensed.iloc[:, 18]\n",
    "test_game = pgn_files[0]\n",
    "test_game\n",
    "# each game is currently a row. we need some way to split each game into FEN files."
   ]
  },
  {
   "cell_type": "code",
   "execution_count": 19,
   "metadata": {},
   "outputs": [],
   "source": [
    "# games['1'].str.split('\\n', expand=True)\n",
    "\n",
    "test_game = \"1. e4 {[%clk 0:03:00]} 1... g6 {[%clk 0:02:59.9]} 2. Nc3 {[%clk 0:02:59]} 2... Bg7 {[%clk 0:02:59.6]} 3. Bc4 {[%clk 0:02:58.3]} 3... e6 {[%clk 0:02:59.3]} 4. d3 {[%clk 0:02:57.8]} 4... Ne7 {[%clk 0:02:59.1]} 5. Be3 {[%clk 0:02:57.2]} 5... O-O {[%clk 0:02:58.8]} 6. Qd2 {[%clk 0:02:56.7]} 6... Nbc6 {[%clk 0:02:58.5]} 7. O-O-O {[%clk 0:02:56.3]} 7... d5 {[%clk 0:02:58.2]} 8. exd5 {[%clk 0:02:55]} 8... exd5 {[%clk 0:02:57.5]} 9. Bb5 {[%clk 0:02:51.1]} 9... d4 {[%clk 0:02:56.9]} 10. Bxc6 {[%clk 0:02:50.5]} 10... Nxc6 {[%clk 0:02:55.8]} 11. Bh6 {[%clk 0:02:47.6]} 11... dxc3 {[%clk 0:02:54.5]} 12. b3 {[%clk 0:02:46.6]} 12... cxd2+ {[%clk 0:02:53.7]} 0-1\""
   ]
  },
  {
   "cell_type": "code",
   "execution_count": 23,
   "metadata": {},
   "outputs": [],
   "source": [
    "import chess.pgn\n",
    "import io"
   ]
  },
  {
   "cell_type": "code",
   "execution_count": 24,
   "metadata": {},
   "outputs": [
    {
     "data": {
      "text/plain": [
       "<_io.StringIO at 0x7fed90ce74c0>"
      ]
     },
     "execution_count": 24,
     "metadata": {},
     "output_type": "execute_result"
    }
   ],
   "source": [
    "io.StringIO(test_game)"
   ]
  },
  {
   "cell_type": "code",
   "execution_count": 29,
   "metadata": {},
   "outputs": [],
   "source": [
    "test_game = chess.pgn.read_game(io.StringIO(test_game))\n"
   ]
  },
  {
   "cell_type": "code",
   "execution_count": 61,
   "metadata": {},
   "outputs": [],
   "source": [
    "# Iterate through all moves and play them on a board.\n",
    "fen_lst = []\n",
    "board = test_game.board()\n",
    "for move in test_game.mainline_moves():\n",
    "    board.push(move)\n",
    "    # print(\"new move: \\n\", board)\n",
    "    fen_lst.append(board.fen())"
   ]
  },
  {
   "cell_type": "code",
   "execution_count": 60,
   "metadata": {},
   "outputs": [
    {
     "data": {
      "text/plain": [
       "'r1bq1rk1/ppp2pbp/2n3pB/8/8/1P1P4/P1Pp1PPP/2KR2NR w - - 0 13'"
      ]
     },
     "execution_count": 60,
     "metadata": {},
     "output_type": "execute_result"
    }
   ],
   "source": [
    "board.fen() "
   ]
  },
  {
   "cell_type": "code",
   "execution_count": 62,
   "metadata": {},
   "outputs": [
    {
     "data": {
      "text/plain": [
       "['rnbqkbnr/pppppppp/8/8/4P3/8/PPPP1PPP/RNBQKBNR b KQkq - 0 1',\n",
       " 'rnbqkbnr/pppppp1p/6p1/8/4P3/8/PPPP1PPP/RNBQKBNR w KQkq - 0 2',\n",
       " 'rnbqkbnr/pppppp1p/6p1/8/4P3/2N5/PPPP1PPP/R1BQKBNR b KQkq - 1 2',\n",
       " 'rnbqk1nr/ppppppbp/6p1/8/4P3/2N5/PPPP1PPP/R1BQKBNR w KQkq - 2 3',\n",
       " 'rnbqk1nr/ppppppbp/6p1/8/2B1P3/2N5/PPPP1PPP/R1BQK1NR b KQkq - 3 3',\n",
       " 'rnbqk1nr/pppp1pbp/4p1p1/8/2B1P3/2N5/PPPP1PPP/R1BQK1NR w KQkq - 0 4',\n",
       " 'rnbqk1nr/pppp1pbp/4p1p1/8/2B1P3/2NP4/PPP2PPP/R1BQK1NR b KQkq - 0 4',\n",
       " 'rnbqk2r/ppppnpbp/4p1p1/8/2B1P3/2NP4/PPP2PPP/R1BQK1NR w KQkq - 1 5',\n",
       " 'rnbqk2r/ppppnpbp/4p1p1/8/2B1P3/2NPB3/PPP2PPP/R2QK1NR b KQkq - 2 5',\n",
       " 'rnbq1rk1/ppppnpbp/4p1p1/8/2B1P3/2NPB3/PPP2PPP/R2QK1NR w KQ - 3 6',\n",
       " 'rnbq1rk1/ppppnpbp/4p1p1/8/2B1P3/2NPB3/PPPQ1PPP/R3K1NR b KQ - 4 6',\n",
       " 'r1bq1rk1/ppppnpbp/2n1p1p1/8/2B1P3/2NPB3/PPPQ1PPP/R3K1NR w KQ - 5 7',\n",
       " 'r1bq1rk1/ppppnpbp/2n1p1p1/8/2B1P3/2NPB3/PPPQ1PPP/2KR2NR b - - 6 7',\n",
       " 'r1bq1rk1/ppp1npbp/2n1p1p1/3p4/2B1P3/2NPB3/PPPQ1PPP/2KR2NR w - - 0 8',\n",
       " 'r1bq1rk1/ppp1npbp/2n1p1p1/3P4/2B5/2NPB3/PPPQ1PPP/2KR2NR b - - 0 8',\n",
       " 'r1bq1rk1/ppp1npbp/2n3p1/3p4/2B5/2NPB3/PPPQ1PPP/2KR2NR w - - 0 9',\n",
       " 'r1bq1rk1/ppp1npbp/2n3p1/1B1p4/8/2NPB3/PPPQ1PPP/2KR2NR b - - 1 9',\n",
       " 'r1bq1rk1/ppp1npbp/2n3p1/1B6/3p4/2NPB3/PPPQ1PPP/2KR2NR w - - 0 10',\n",
       " 'r1bq1rk1/ppp1npbp/2B3p1/8/3p4/2NPB3/PPPQ1PPP/2KR2NR b - - 0 10',\n",
       " 'r1bq1rk1/ppp2pbp/2n3p1/8/3p4/2NPB3/PPPQ1PPP/2KR2NR w - - 0 11',\n",
       " 'r1bq1rk1/ppp2pbp/2n3pB/8/3p4/2NP4/PPPQ1PPP/2KR2NR b - - 1 11',\n",
       " 'r1bq1rk1/ppp2pbp/2n3pB/8/8/2pP4/PPPQ1PPP/2KR2NR w - - 0 12',\n",
       " 'r1bq1rk1/ppp2pbp/2n3pB/8/8/1PpP4/P1PQ1PPP/2KR2NR b - - 0 12',\n",
       " 'r1bq1rk1/ppp2pbp/2n3pB/8/8/1P1P4/P1Pp1PPP/2KR2NR w - - 0 13']"
      ]
     },
     "execution_count": 62,
     "metadata": {},
     "output_type": "execute_result"
    }
   ],
   "source": [
    "fen_lst"
   ]
  },
  {
   "cell_type": "code",
   "execution_count": null,
   "metadata": {},
   "outputs": [],
   "source": [
    "# importing a chess engine\n",
    "import chess.engine\n",
    "\n"
   ]
  }
 ],
 "metadata": {
  "kernelspec": {
   "display_name": "Python 3",
   "language": "python",
   "name": "python3"
  },
  "language_info": {
   "codemirror_mode": {
    "name": "ipython",
    "version": 3
   },
   "file_extension": ".py",
   "mimetype": "text/x-python",
   "name": "python",
   "nbconvert_exporter": "python",
   "pygments_lexer": "ipython3",
   "version": "3.8.5"
  }
 },
 "nbformat": 4,
 "nbformat_minor": 4
}
